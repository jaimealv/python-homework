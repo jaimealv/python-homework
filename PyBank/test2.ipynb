{
 "cells": [
  {
   "cell_type": "code",
   "execution_count": 3,
   "metadata": {},
   "outputs": [
    {
     "name": "stdout",
     "output_type": "stream",
     "text": [
      "Financial Analysis\n",
      "---------------------------------\n",
      "Total months: 86\n",
      "Total: $38382578\n",
      "Average Change: $-2315.12\n",
      "Greatest Increase in Profits: Feb-2012 ($1926159.0)\n",
      "Greatest Decrease in Profits: Sep-2013 ($-2196167.0)\n"
     ]
    }
   ],
   "source": [
    "import pandas as pd\n",
    "%matplotlib inline\n",
    "\n",
    "# import budget_data csv file with profits and losses\n",
    "budget = pd.read_csv('budget_data.csv')\n",
    "budget.head()\n",
    "\n",
    "# calculate total number of months in the data\n",
    "total_months = budget.count()[0]\n",
    "total_months\n",
    "\n",
    "# calculate total profits (or losses) from data\n",
    "total_profits = budget.sum()[0]\n",
    "total_profits\n",
    "\n",
    "# Set the date as the index to the DataFrame\n",
    "budget.set_index(pd.to_datetime(budget['Date'], infer_datetime_format=True), inplace=True)\n",
    "\n",
    "# drop the extra date column\n",
    "budget.drop(columns=['Date'], inplace=True)\n",
    "budget.head()\n",
    "\n",
    "# calculate total profits (or losses) from data\n",
    "total_profits = budget.sum()[0]\n",
    "total_profits\n",
    "\n",
    "# Calculate the monthly profit/losses using the 'shift()' function\n",
    "monthly_profit = (budget - budget.shift(1))\n",
    "monthly_profit.head()\n",
    "\n",
    "# calculate the average monthly change\n",
    "average_change = monthly_profit.mean()\n",
    "average_value = average_change[0].round(2)\n",
    "average_value\n",
    "\n",
    "# calculate the greatest increase in profits and point out the date\n",
    "greatest_increase = monthly_profit.max()\n",
    "greatest_increase.head()\n",
    "greatest_profit = monthly_profit.loc[monthly_profit['Profit/Losses'] == greatest_increase.iloc[0]].head()\n",
    "greatest_profit\n",
    "max_value = greatest_increase.iloc[0].round(0)\n",
    "max_value\n",
    "\n",
    "# calculate the greatest decrease in profits and point out the date\n",
    "greatest_decrease = monthly_profit.min()\n",
    "greatest_decrease.head()\n",
    "greatest_loss = monthly_profit.loc[monthly_profit['Profit/Losses'] == greatest_decrease.iloc[0]].head()\n",
    "greatest_loss\n",
    "min_value = greatest_decrease.iloc[0].round(0)\n",
    "min_value\n",
    "\n",
    "print(\"Financial Analysis\")\n",
    "print(\"---------------------------------\")\n",
    "print(f\"Total months: {total_months}\")\n",
    "print(f\"Total: ${total_profits}\")\n",
    "print(f\"Average Change: ${average_value}\")\n",
    "print(f\"Greatest Increase in Profits: Feb-2012 (${max_value})\")\n",
    "print(f\"Greatest Decrease in Profits: Sep-2013 (${min_value})\")"
   ]
  },
  {
   "cell_type": "code",
   "execution_count": null,
   "metadata": {},
   "outputs": [],
   "source": []
  }
 ],
 "metadata": {
  "kernelspec": {
   "display_name": "Python 3",
   "language": "python",
   "name": "python3"
  },
  "language_info": {
   "codemirror_mode": {
    "name": "ipython",
    "version": 3
   },
   "file_extension": ".py",
   "mimetype": "text/x-python",
   "name": "python",
   "nbconvert_exporter": "python",
   "pygments_lexer": "ipython3",
   "version": "3.7.3"
  }
 },
 "nbformat": 4,
 "nbformat_minor": 4
}
